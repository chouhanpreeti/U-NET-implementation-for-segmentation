{
  "nbformat": 4,
  "nbformat_minor": 0,
  "metadata": {
    "accelerator": "GPU",
    "colab": {
      "name": "mri_detection_segmentation.ipynb",
      "provenance": [],
      "collapsed_sections": [],
      "toc_visible": true,
      "include_colab_link": true
    },
    "kernelspec": {
      "display_name": "Python 3",
      "language": "python",
      "name": "python3"
    },
    "language_info": {
      "codemirror_mode": {
        "name": "ipython",
        "version": 3
      },
      "file_extension": ".py",
      "mimetype": "text/x-python",
      "name": "python",
      "nbconvert_exporter": "python",
      "pygments_lexer": "ipython3",
      "version": "3.8.5"
    }
  },
  "cells": [
    {
      "cell_type": "markdown",
      "metadata": {
        "id": "view-in-github",
        "colab_type": "text"
      },
      "source": [
        "<a href=\"https://colab.research.google.com/github/itspreeti25/U-NET-implementation-for-segmentation/blob/main/mri_unet-segmentation.ipynb\" target=\"_parent\"><img src=\"https://colab.research.google.com/assets/colab-badge.svg\" alt=\"Open In Colab\"/></a>"
      ]
    },
    {
      "cell_type": "code",
      "metadata": {
        "colab": {
          "base_uri": "https://localhost:8080/"
        },
        "id": "IFBtEm2eRnJg",
        "outputId": "5ee3d63e-92f2-45d1-dbda-ffce8e6036ec"
      },
      "source": [
        "from google.colab import drive\n",
        "drive.mount('/content/drive')"
      ],
      "execution_count": 1,
      "outputs": [
        {
          "output_type": "stream",
          "text": [
            "Mounted at /content/drive\n"
          ],
          "name": "stdout"
        }
      ]
    },
    {
      "cell_type": "code",
      "metadata": {
        "colab": {
          "base_uri": "https://localhost:8080/"
        },
        "id": "A_Qca-HkRQpo",
        "outputId": "78e1286d-278f-4b5f-89b5-773a4909a872"
      },
      "source": [
        "!nvidia-smi"
      ],
      "execution_count": 50,
      "outputs": [
        {
          "output_type": "stream",
          "text": [
            "Tue Apr 20 07:09:10 2021       \n",
            "+-----------------------------------------------------------------------------+\n",
            "| NVIDIA-SMI 460.67       Driver Version: 460.32.03    CUDA Version: 11.2     |\n",
            "|-------------------------------+----------------------+----------------------+\n",
            "| GPU  Name        Persistence-M| Bus-Id        Disp.A | Volatile Uncorr. ECC |\n",
            "| Fan  Temp  Perf  Pwr:Usage/Cap|         Memory-Usage | GPU-Util  Compute M. |\n",
            "|                               |                      |               MIG M. |\n",
            "|===============================+======================+======================|\n",
            "|   0  Tesla P100-PCIE...  Off  | 00000000:00:04.0 Off |                    0 |\n",
            "| N/A   34C    P0    31W / 250W |  15563MiB / 16280MiB |      0%      Default |\n",
            "|                               |                      |                  N/A |\n",
            "+-------------------------------+----------------------+----------------------+\n",
            "                                                                               \n",
            "+-----------------------------------------------------------------------------+\n",
            "| Processes:                                                                  |\n",
            "|  GPU   GI   CI        PID   Type   Process name                  GPU Memory |\n",
            "|        ID   ID                                                   Usage      |\n",
            "|=============================================================================|\n",
            "+-----------------------------------------------------------------------------+\n"
          ],
          "name": "stdout"
        }
      ]
    },
    {
      "cell_type": "code",
      "metadata": {
        "colab": {
          "base_uri": "https://localhost:8080/"
        },
        "id": "ZCDCFypdb0u0",
        "outputId": "41eb7355-433e-4377-dae7-588d7d7b3fde"
      },
      "source": [
        "!sudo apt install python3.8"
      ],
      "execution_count": null,
      "outputs": [
        {
          "output_type": "stream",
          "text": [
            "Reading package lists... Done\n",
            "Building dependency tree       \n",
            "Reading state information... Done\n",
            "The following additional packages will be installed:\n",
            "  libpython3.8-minimal libpython3.8-stdlib python3.8-minimal\n",
            "Suggested packages:\n",
            "  python3.8-venv python3.8-doc binfmt-support\n",
            "The following NEW packages will be installed:\n",
            "  libpython3.8-minimal libpython3.8-stdlib python3.8 python3.8-minimal\n",
            "0 upgraded, 4 newly installed, 0 to remove and 31 not upgraded.\n",
            "Need to get 4,669 kB of archives.\n",
            "After this operation, 18.5 MB of additional disk space will be used.\n",
            "Get:1 http://ppa.launchpad.net/deadsnakes/ppa/ubuntu bionic/main amd64 libpython3.8-minimal amd64 3.8.9-1+bionic1 [761 kB]\n",
            "Get:2 http://ppa.launchpad.net/deadsnakes/ppa/ubuntu bionic/main amd64 python3.8-minimal amd64 3.8.9-1+bionic1 [1,823 kB]\n",
            "Get:3 http://ppa.launchpad.net/deadsnakes/ppa/ubuntu bionic/main amd64 libpython3.8-stdlib amd64 3.8.9-1+bionic1 [1,656 kB]\n",
            "Get:4 http://ppa.launchpad.net/deadsnakes/ppa/ubuntu bionic/main amd64 python3.8 amd64 3.8.9-1+bionic1 [430 kB]\n",
            "Fetched 4,669 kB in 0s (12.3 MB/s)\n",
            "debconf: unable to initialize frontend: Dialog\n",
            "debconf: (No usable dialog-like program is installed, so the dialog based frontend cannot be used. at /usr/share/perl5/Debconf/FrontEnd/Dialog.pm line 76, <> line 4.)\n",
            "debconf: falling back to frontend: Readline\n",
            "debconf: unable to initialize frontend: Readline\n",
            "debconf: (This frontend requires a controlling tty.)\n",
            "debconf: falling back to frontend: Teletype\n",
            "dpkg-preconfigure: unable to re-open stdin: \n",
            "Selecting previously unselected package libpython3.8-minimal:amd64.\n",
            "(Reading database ... 160983 files and directories currently installed.)\n",
            "Preparing to unpack .../libpython3.8-minimal_3.8.9-1+bionic1_amd64.deb ...\n",
            "Unpacking libpython3.8-minimal:amd64 (3.8.9-1+bionic1) ...\n",
            "Selecting previously unselected package python3.8-minimal.\n",
            "Preparing to unpack .../python3.8-minimal_3.8.9-1+bionic1_amd64.deb ...\n",
            "Unpacking python3.8-minimal (3.8.9-1+bionic1) ...\n",
            "Selecting previously unselected package libpython3.8-stdlib:amd64.\n",
            "Preparing to unpack .../libpython3.8-stdlib_3.8.9-1+bionic1_amd64.deb ...\n",
            "Unpacking libpython3.8-stdlib:amd64 (3.8.9-1+bionic1) ...\n",
            "Selecting previously unselected package python3.8.\n",
            "Preparing to unpack .../python3.8_3.8.9-1+bionic1_amd64.deb ...\n",
            "Unpacking python3.8 (3.8.9-1+bionic1) ...\n",
            "Setting up libpython3.8-minimal:amd64 (3.8.9-1+bionic1) ...\n",
            "Setting up python3.8-minimal (3.8.9-1+bionic1) ...\n",
            "Setting up libpython3.8-stdlib:amd64 (3.8.9-1+bionic1) ...\n",
            "Setting up python3.8 (3.8.9-1+bionic1) ...\n",
            "Processing triggers for mime-support (3.60ubuntu1) ...\n",
            "Processing triggers for man-db (2.8.3-2ubuntu0.1) ...\n"
          ],
          "name": "stdout"
        }
      ]
    },
    {
      "cell_type": "code",
      "metadata": {
        "colab": {
          "base_uri": "https://localhost:8080/"
        },
        "id": "s0QFxdqjOusX",
        "outputId": "d162e2f8-6db1-4dad-9d59-b24be157e6f2"
      },
      "source": [
        "import tensorflow as tf\n",
        "print(tf.__version__)\n"
      ],
      "execution_count": null,
      "outputs": [
        {
          "output_type": "stream",
          "text": [
            "2.4.1\n"
          ],
          "name": "stdout"
        }
      ]
    },
    {
      "cell_type": "code",
      "metadata": {
        "colab": {
          "base_uri": "https://localhost:8080/"
        },
        "id": "afBgTVzXSVDs",
        "outputId": "e1e0180d-6fba-4203-805f-9ea571edece1"
      },
      "source": [
        "!python --version"
      ],
      "execution_count": null,
      "outputs": [
        {
          "output_type": "stream",
          "text": [
            "Python 3.7.10\n"
          ],
          "name": "stdout"
        }
      ]
    },
    {
      "cell_type": "code",
      "metadata": {
        "id": "Kkh48aJ3UTlE"
      },
      "source": [
        "import os\n",
        "import numpy as np\n",
        "import pandas as pd\n",
        "import matplotlib.pyplot as plt\n",
        "import seaborn as sns\n",
        "import zipfile\n",
        "import cv2\n",
        "from skimage import io\n",
        "\n",
        "import tensorflow as tf\n",
        "from tensorflow.python.keras import Sequential\n",
        "from tensorflow.keras import layers, optimizers\n",
        "from tensorflow.keras.layers import *\n",
        "from tensorflow.keras.models import Model\n",
        "from tensorflow.keras.initializers import glorot_uniform\n",
        "from tensorflow.keras.optimizers import Adam\n",
        "from tensorflow.keras.utils import plot_model\n",
        "from tensorflow.keras.callbacks import ReduceLROnPlateau, EarlyStopping, ModelCheckpoint, LearningRateScheduler, TensorBoard\n",
        "from keras.regularizers import l1,l2\n",
        "import tensorflow.keras.backend as K\n",
        "from tensorflow.keras.metrics import Recall, Precision\n",
        "from keras.models import load_model\n",
        "\n",
        "import random\n",
        "import glob\n",
        "from sklearn.preprocessing import StandardScaler, normalize\n",
        "from IPython.display import display\n",
        "import re\n"
      ],
      "execution_count": 44,
      "outputs": []
    },
    {
      "cell_type": "code",
      "metadata": {
        "colab": {
          "base_uri": "https://localhost:8080/"
        },
        "id": "FxNnlJzHUTlG",
        "outputId": "4166f3d5-aa70-49a3-8c2a-fa80e4171863"
      },
      "source": [
        "data = pd.read_csv(\"/content/drive/MyDrive/Input_MRI_S/lgg-mri-segmentation/kaggle_3m/data.csv\")\n",
        "data.info()"
      ],
      "execution_count": 4,
      "outputs": [
        {
          "output_type": "stream",
          "text": [
            "<class 'pandas.core.frame.DataFrame'>\n",
            "RangeIndex: 110 entries, 0 to 109\n",
            "Data columns (total 18 columns):\n",
            " #   Column                     Non-Null Count  Dtype  \n",
            "---  ------                     --------------  -----  \n",
            " 0   Patient                    110 non-null    object \n",
            " 1   RNASeqCluster              92 non-null     float64\n",
            " 2   MethylationCluster         109 non-null    float64\n",
            " 3   miRNACluster               110 non-null    int64  \n",
            " 4   CNCluster                  108 non-null    float64\n",
            " 5   RPPACluster                98 non-null     float64\n",
            " 6   OncosignCluster            105 non-null    float64\n",
            " 7   COCCluster                 110 non-null    int64  \n",
            " 8   histological_type          109 non-null    float64\n",
            " 9   neoplasm_histologic_grade  109 non-null    float64\n",
            " 10  tumor_tissue_site          109 non-null    float64\n",
            " 11  laterality                 109 non-null    float64\n",
            " 12  tumor_location             109 non-null    float64\n",
            " 13  gender                     109 non-null    float64\n",
            " 14  age_at_initial_pathologic  109 non-null    float64\n",
            " 15  race                       108 non-null    float64\n",
            " 16  ethnicity                  102 non-null    float64\n",
            " 17  death01                    109 non-null    float64\n",
            "dtypes: float64(15), int64(2), object(1)\n",
            "memory usage: 15.6+ KB\n"
          ],
          "name": "stdout"
        }
      ]
    },
    {
      "cell_type": "code",
      "metadata": {
        "colab": {
          "base_uri": "https://localhost:8080/",
          "height": 187
        },
        "id": "l1E3Mqr9UTlH",
        "outputId": "7d7281be-dce4-4ed5-8511-0cc0033ba8c1"
      },
      "source": [
        "data.head(4)"
      ],
      "execution_count": null,
      "outputs": [
        {
          "output_type": "execute_result",
          "data": {
            "text/html": [
              "<div>\n",
              "<style scoped>\n",
              "    .dataframe tbody tr th:only-of-type {\n",
              "        vertical-align: middle;\n",
              "    }\n",
              "\n",
              "    .dataframe tbody tr th {\n",
              "        vertical-align: top;\n",
              "    }\n",
              "\n",
              "    .dataframe thead th {\n",
              "        text-align: right;\n",
              "    }\n",
              "</style>\n",
              "<table border=\"1\" class=\"dataframe\">\n",
              "  <thead>\n",
              "    <tr style=\"text-align: right;\">\n",
              "      <th></th>\n",
              "      <th>Patient</th>\n",
              "      <th>RNASeqCluster</th>\n",
              "      <th>MethylationCluster</th>\n",
              "      <th>miRNACluster</th>\n",
              "      <th>CNCluster</th>\n",
              "      <th>RPPACluster</th>\n",
              "      <th>OncosignCluster</th>\n",
              "      <th>COCCluster</th>\n",
              "      <th>histological_type</th>\n",
              "      <th>neoplasm_histologic_grade</th>\n",
              "      <th>tumor_tissue_site</th>\n",
              "      <th>laterality</th>\n",
              "      <th>tumor_location</th>\n",
              "      <th>gender</th>\n",
              "      <th>age_at_initial_pathologic</th>\n",
              "      <th>race</th>\n",
              "      <th>ethnicity</th>\n",
              "      <th>death01</th>\n",
              "    </tr>\n",
              "  </thead>\n",
              "  <tbody>\n",
              "    <tr>\n",
              "      <th>0</th>\n",
              "      <td>TCGA_CS_4941</td>\n",
              "      <td>2.0</td>\n",
              "      <td>4.0</td>\n",
              "      <td>2</td>\n",
              "      <td>2.0</td>\n",
              "      <td>NaN</td>\n",
              "      <td>3.0</td>\n",
              "      <td>2</td>\n",
              "      <td>1.0</td>\n",
              "      <td>2.0</td>\n",
              "      <td>1.0</td>\n",
              "      <td>3.0</td>\n",
              "      <td>2.0</td>\n",
              "      <td>2.0</td>\n",
              "      <td>67.0</td>\n",
              "      <td>3.0</td>\n",
              "      <td>2.0</td>\n",
              "      <td>1.0</td>\n",
              "    </tr>\n",
              "    <tr>\n",
              "      <th>1</th>\n",
              "      <td>TCGA_CS_4942</td>\n",
              "      <td>1.0</td>\n",
              "      <td>5.0</td>\n",
              "      <td>2</td>\n",
              "      <td>1.0</td>\n",
              "      <td>1.0</td>\n",
              "      <td>2.0</td>\n",
              "      <td>1</td>\n",
              "      <td>1.0</td>\n",
              "      <td>2.0</td>\n",
              "      <td>1.0</td>\n",
              "      <td>3.0</td>\n",
              "      <td>2.0</td>\n",
              "      <td>1.0</td>\n",
              "      <td>44.0</td>\n",
              "      <td>2.0</td>\n",
              "      <td>NaN</td>\n",
              "      <td>1.0</td>\n",
              "    </tr>\n",
              "    <tr>\n",
              "      <th>2</th>\n",
              "      <td>TCGA_CS_4943</td>\n",
              "      <td>1.0</td>\n",
              "      <td>5.0</td>\n",
              "      <td>2</td>\n",
              "      <td>1.0</td>\n",
              "      <td>2.0</td>\n",
              "      <td>2.0</td>\n",
              "      <td>1</td>\n",
              "      <td>1.0</td>\n",
              "      <td>2.0</td>\n",
              "      <td>1.0</td>\n",
              "      <td>1.0</td>\n",
              "      <td>2.0</td>\n",
              "      <td>2.0</td>\n",
              "      <td>37.0</td>\n",
              "      <td>3.0</td>\n",
              "      <td>NaN</td>\n",
              "      <td>0.0</td>\n",
              "    </tr>\n",
              "    <tr>\n",
              "      <th>3</th>\n",
              "      <td>TCGA_CS_4944</td>\n",
              "      <td>NaN</td>\n",
              "      <td>5.0</td>\n",
              "      <td>2</td>\n",
              "      <td>1.0</td>\n",
              "      <td>2.0</td>\n",
              "      <td>1.0</td>\n",
              "      <td>1</td>\n",
              "      <td>1.0</td>\n",
              "      <td>1.0</td>\n",
              "      <td>1.0</td>\n",
              "      <td>3.0</td>\n",
              "      <td>6.0</td>\n",
              "      <td>2.0</td>\n",
              "      <td>50.0</td>\n",
              "      <td>3.0</td>\n",
              "      <td>NaN</td>\n",
              "      <td>0.0</td>\n",
              "    </tr>\n",
              "  </tbody>\n",
              "</table>\n",
              "</div>"
            ],
            "text/plain": [
              "        Patient  RNASeqCluster  MethylationCluster  ...  race  ethnicity  death01\n",
              "0  TCGA_CS_4941            2.0                 4.0  ...   3.0        2.0      1.0\n",
              "1  TCGA_CS_4942            1.0                 5.0  ...   2.0        NaN      1.0\n",
              "2  TCGA_CS_4943            1.0                 5.0  ...   3.0        NaN      0.0\n",
              "3  TCGA_CS_4944            NaN                 5.0  ...   3.0        NaN      0.0\n",
              "\n",
              "[4 rows x 18 columns]"
            ]
          },
          "metadata": {
            "tags": []
          },
          "execution_count": 19
        }
      ]
    },
    {
      "cell_type": "code",
      "metadata": {
        "colab": {
          "base_uri": "https://localhost:8080/"
        },
        "id": "0UClyoZgUTlI",
        "outputId": "50007db5-c646-496e-fbb9-e1e4df78c91f"
      },
      "source": [
        "data_map = []\n",
        "for sub_dir_path in glob.glob(\"/content/drive/MyDrive/Input_MRI_S/lgg-mri-segmentation/kaggle_3m/\"+\"*\"):\n",
        "    #if os.path.isdir(sub_path_dir):\n",
        "    try:\n",
        "        dir_name = sub_dir_path.split('/')[-1]\n",
        "        for filename in os.listdir(sub_dir_path):\n",
        "            image_path = sub_dir_path + '/' + filename\n",
        "            data_map.extend([dir_name, image_path])\n",
        "    except Exception as e:\n",
        "        print(e)\n"
      ],
      "execution_count": 5,
      "outputs": [
        {
          "output_type": "stream",
          "text": [
            "[Errno 20] Not a directory: '/content/drive/MyDrive/Input_MRI_S/lgg-mri-segmentation/kaggle_3m/README.md'\n",
            "[Errno 20] Not a directory: '/content/drive/MyDrive/Input_MRI_S/lgg-mri-segmentation/kaggle_3m/data.csv'\n"
          ],
          "name": "stdout"
        }
      ]
    },
    {
      "cell_type": "code",
      "metadata": {
        "colab": {
          "base_uri": "https://localhost:8080/"
        },
        "id": "sNZ5Yk5-UTlJ",
        "outputId": "a70b671d-d585-4bf3-a091-25fb163e0795"
      },
      "source": [
        "df = pd.DataFrame({\"patient_id\" : data_map[::2],\n",
        "                   \"path\" : data_map[1::2]})\n",
        "df.head(4)\n",
        "print(len(df))"
      ],
      "execution_count": 6,
      "outputs": [
        {
          "output_type": "stream",
          "text": [
            "7868\n"
          ],
          "name": "stdout"
        }
      ]
    },
    {
      "cell_type": "code",
      "metadata": {
        "id": "x5sbH1tlUTlJ"
      },
      "source": [
        "# df_imgs = df[~df['path'].str.contains(\"mask\") & ~df['path'].str.contains(\"(1)\") ]\n",
        "# df_masks = df[df['path'].str.contains(\"mask\") & ~df['path'].str.contains(\"(1)\") ]\n",
        "\n",
        "df_imgs = df[~df['path'].str.contains(\"mask\")]\n",
        "df_masks = df[df['path'].str.contains(\"mask\")]\n",
        "\n",
        "\n",
        "# File path line length images for later sorting\n",
        "BASE_LEN = 110 # len(/kaggle/input/lgg-mri-segmentation/kaggle_3m/TCGA_DU_6404_19850629/TCGA_DU_6404_19850629_ <-!!!43.tif)\n",
        "END_IMG_LEN = 4 # len(/kaggle/input/lgg-mri-segmentation/kaggle_3m/TCGA_DU_6404_19850629/TCGA_DU_6404_19850629_43 !!!->.tif)\n",
        "END_MASK_LEN = 9 # (/kaggle/input/lgg-mri-segmentation/kaggle_3m/TCGA_DU_6404_19850629/TCGA_DU_6404_19850629_43 !!!->_mask.tif)\n",
        "\n"
      ],
      "execution_count": 7,
      "outputs": []
    },
    {
      "cell_type": "code",
      "metadata": {
        "id": "HGsDNfiVmhUR"
      },
      "source": [
        "# Data sorting\n",
        "imgs = sorted(df_imgs[\"path\"].values, key=lambda x : int(x[BASE_LEN:-END_IMG_LEN]))\n",
        "masks = sorted(df_masks[\"path\"].values, key=lambda x : int(x[BASE_LEN:-END_MASK_LEN]))\n",
        "\n"
      ],
      "execution_count": 19,
      "outputs": []
    },
    {
      "cell_type": "code",
      "metadata": {
        "colab": {
          "base_uri": "https://localhost:8080/"
        },
        "id": "Zx_24_Sx6Jvo",
        "outputId": "eb1449a8-e243-497f-d4de-729108d2ca90"
      },
      "source": [
        "# Sorting check\n",
        "idx = random.randint(0, len(imgs)-1)\n",
        "print(\"Path to the Image:\", imgs[idx], \"\\nPath to the Mask:\", masks[idx])"
      ],
      "execution_count": 20,
      "outputs": [
        {
          "output_type": "stream",
          "text": [
            "Path to the Image: /content/drive/MyDrive/Input_MRI_S/lgg-mri-segmentation/kaggle_3m/TCGA_HT_A61A_20000127/TCGA_HT_A61A_20000127_48.tif \n",
            "Path to the Mask: /content/drive/MyDrive/Input_MRI_S/lgg-mri-segmentation/kaggle_3m/TCGA_HT_A61A_20000127/TCGA_HT_A61A_20000127_48_mask.tif\n"
          ],
          "name": "stdout"
        }
      ]
    },
    {
      "cell_type": "code",
      "metadata": {
        "id": "0vayucs6Jegr"
      },
      "source": [
        "len(df_imgs)"
      ],
      "execution_count": null,
      "outputs": []
    },
    {
      "cell_type": "code",
      "metadata": {
        "id": "_CUNNY7pBjS5",
        "colab": {
          "base_uri": "https://localhost:8080/",
          "height": 327
        },
        "outputId": "e9038ce2-9d4f-4ea7-84ef-4becb2ea6181"
      },
      "source": [
        "def fetch_num(path):\n",
        "  try:\n",
        "    num=int(path[BASE_LEN:-END_IMG_LEN])\n",
        "    return num\n",
        "  except Exception as e:\n",
        "    print(path)\n",
        "imgs = sorted(df_imgs[\"path\"].values, key=fetch_num)\n",
        "\n",
        "\n",
        "\n",
        "# def fetch_num(path):\n",
        "#   try:\n",
        "#     num=int(path[BASE_LEN:-END_MASK_LEN])\n",
        "#     return num\n",
        "#   except Exception as e:\n",
        "#     print(path)\n",
        "\n",
        "\n",
        "\n",
        "imgs = sorted(df_imgs[\"path\"].values, key=fetch_num)"
      ],
      "execution_count": 17,
      "outputs": [
        {
          "output_type": "stream",
          "text": [
            "/content/drive/MyDrive/Input_MRI_S/lgg-mri-segmentation/kaggle_3m/TCGA_HT_7692_19960724/TCGA_HT_7692_19960724_1 (1).tif\n",
            "/content/drive/MyDrive/Input_MRI_S/lgg-mri-segmentation/kaggle_3m/TCGA_HT_7692_19960724/TCGA_HT_7692_19960724_13 (1).tif\n",
            "/content/drive/MyDrive/Input_MRI_S/lgg-mri-segmentation/kaggle_3m/TCGA_HT_7692_19960724/TCGA_HT_7692_19960724_11 (1).tif\n",
            "/content/drive/MyDrive/Input_MRI_S/lgg-mri-segmentation/kaggle_3m/TCGA_HT_7692_19960724/TCGA_HT_7692_19960724_16 (1).tif\n",
            "/content/drive/MyDrive/Input_MRI_S/lgg-mri-segmentation/kaggle_3m/TCGA_HT_8018_19970411/TCGA_HT_8018_19970411_12 (1).tif\n"
          ],
          "name": "stdout"
        },
        {
          "output_type": "error",
          "ename": "TypeError",
          "evalue": "ignored",
          "traceback": [
            "\u001b[0;31m---------------------------------------------------------------------------\u001b[0m",
            "\u001b[0;31mTypeError\u001b[0m                                 Traceback (most recent call last)",
            "\u001b[0;32m<ipython-input-17-1040d609d4b4>\u001b[0m in \u001b[0;36m<module>\u001b[0;34m()\u001b[0m\n\u001b[1;32m      5\u001b[0m   \u001b[0;32mexcept\u001b[0m \u001b[0mException\u001b[0m \u001b[0;32mas\u001b[0m \u001b[0me\u001b[0m\u001b[0;34m:\u001b[0m\u001b[0;34m\u001b[0m\u001b[0;34m\u001b[0m\u001b[0m\n\u001b[1;32m      6\u001b[0m     \u001b[0mprint\u001b[0m\u001b[0;34m(\u001b[0m\u001b[0mpath\u001b[0m\u001b[0;34m)\u001b[0m\u001b[0;34m\u001b[0m\u001b[0;34m\u001b[0m\u001b[0m\n\u001b[0;32m----> 7\u001b[0;31m \u001b[0mimgs\u001b[0m \u001b[0;34m=\u001b[0m \u001b[0msorted\u001b[0m\u001b[0;34m(\u001b[0m\u001b[0mdf_imgs\u001b[0m\u001b[0;34m[\u001b[0m\u001b[0;34m\"path\"\u001b[0m\u001b[0;34m]\u001b[0m\u001b[0;34m.\u001b[0m\u001b[0mvalues\u001b[0m\u001b[0;34m,\u001b[0m \u001b[0mkey\u001b[0m\u001b[0;34m=\u001b[0m\u001b[0mfetch_num\u001b[0m\u001b[0;34m)\u001b[0m\u001b[0;34m\u001b[0m\u001b[0;34m\u001b[0m\u001b[0m\n\u001b[0m\u001b[1;32m      8\u001b[0m \u001b[0;34m\u001b[0m\u001b[0m\n\u001b[1;32m      9\u001b[0m \u001b[0;34m\u001b[0m\u001b[0m\n",
            "\u001b[0;31mTypeError\u001b[0m: '<' not supported between instances of 'NoneType' and 'int'"
          ]
        }
      ]
    },
    {
      "cell_type": "code",
      "metadata": {
        "colab": {
          "base_uri": "https://localhost:8080/"
        },
        "id": "8Hi5bZAUt8NC",
        "outputId": "231b32cc-aef1-45c0-b99c-a4686308825d"
      },
      "source": [
        "len(df_imgs)"
      ],
      "execution_count": 21,
      "outputs": [
        {
          "output_type": "execute_result",
          "data": {
            "text/plain": [
              "3929"
            ]
          },
          "metadata": {
            "tags": []
          },
          "execution_count": 21
        }
      ]
    },
    {
      "cell_type": "code",
      "metadata": {
        "colab": {
          "base_uri": "https://localhost:8080/"
        },
        "id": "Onsp2ajbCSAS",
        "outputId": "848c8ab5-ee9c-45d2-f700-806357ae3a8b"
      },
      "source": [
        "# df_imgs.drop(df_imgs[df_imgs['path'].str.contains(\"_(1)\")].index, inplace = True)\n",
        "# df_masks.drop(df_masks[df_masks['path'].str.contains(\"_(1)\")].index, inplace = True)\n",
        "\n",
        "df_imgs.drop(df_imgs[df_imgs['path']==\"/content/drive/MyDrive/Input_MRI_S/lgg-mri-segmentation/kaggle_3m/TCGA_HT_7692_19960724/TCGA_HT_7692_19960724_10 (1).tif\"].index, inplace = True)\n",
        "df_imgs.drop(df_imgs[df_imgs['path']==\"/content/drive/MyDrive/Input_MRI_S/lgg-mri-segmentation/kaggle_3m/TCGA_HT_7692_19960724/TCGA_HT_7692_19960724_1 (1).tif\"].index, inplace = True)\n",
        "df_imgs.drop(df_imgs[df_imgs['path']==\"/content/drive/MyDrive/Input_MRI_S/lgg-mri-segmentation/kaggle_3m/TCGA_HT_7692_19960724/TCGA_HT_7692_19960724_13 (1).tif\"].index, inplace = True)\n",
        "df_imgs.drop(df_imgs[df_imgs['path']==\"/content/drive/MyDrive/Input_MRI_S/lgg-mri-segmentation/kaggle_3m/TCGA_HT_7692_19960724/TCGA_HT_7692_19960724_11 (1).tif\"].index, inplace = True)\n",
        "df_imgs.drop(df_imgs[df_imgs['path']==\"/content/drive/MyDrive/Input_MRI_S/lgg-mri-segmentation/kaggle_3m/TCGA_HT_7692_19960724/TCGA_HT_7692_19960724_16 (1).tif\"].index, inplace = True)\n",
        "df_imgs.drop(df_imgs[df_imgs['path']==\"/content/drive/MyDrive/Input_MRI_S/lgg-mri-segmentation/kaggle_3m/TCGA_HT_8018_19970411/TCGA_HT_8018_19970411_12 (1).tif\"].index, inplace = True)\n",
        "\n",
        "df_masks.drop(df_masks[df_masks['path']==\"/content/drive/MyDrive/Input_MRI_S/lgg-mri-segmentation/kaggle_3m/TCGA_HT_7692_19960724/TCGA_HT_7692_19960724_10_mask (1).tif\"].index, inplace = True)\n",
        "df_masks.drop(df_masks[df_masks['path']==\"/content/drive/MyDrive/Input_MRI_S/lgg-mri-segmentation/kaggle_3m/TCGA_HT_8018_19970411/TCGA_HT_8018_19970411_12_mask (1).tif\"].index, inplace = True)\n",
        "df_masks.drop(df_masks[df_masks['path']==\"/content/drive/MyDrive/Input_MRI_S/lgg-mri-segmentation/kaggle_3m/TCGA_HT_8018_19970411/TCGA_HT_8018_19970411_15_mask (1).tif\"].index, inplace = True)\n",
        "df_masks.drop(df_masks[df_masks['path']==\"/content/drive/MyDrive/Input_MRI_S/lgg-mri-segmentation/kaggle_3m/TCGA_HT_8018_19970411/TCGA_HT_8018_19970411_17_mask (1).tif\"].index, inplace = True)"
      ],
      "execution_count": 18,
      "outputs": [
        {
          "output_type": "stream",
          "text": [
            "/usr/local/lib/python3.7/dist-packages/pandas/core/frame.py:4174: SettingWithCopyWarning: \n",
            "A value is trying to be set on a copy of a slice from a DataFrame\n",
            "\n",
            "See the caveats in the documentation: https://pandas.pydata.org/pandas-docs/stable/user_guide/indexing.html#returning-a-view-versus-a-copy\n",
            "  errors=errors,\n"
          ],
          "name": "stderr"
        }
      ]
    },
    {
      "cell_type": "markdown",
      "metadata": {
        "id": "dUFclVKWUTlK"
      },
      "source": [
        "### creating final datset"
      ]
    },
    {
      "cell_type": "code",
      "metadata": {
        "colab": {
          "base_uri": "https://localhost:8080/",
          "height": 406
        },
        "id": "QyL4dZlmUTlL",
        "outputId": "b04d9b95-e9ae-431c-921d-51e2acda000b"
      },
      "source": [
        "# Final dataframe\n",
        "df = pd.DataFrame({\"patient_id\": df_imgs.patient_id.values,\n",
        "                         \"image_path\": imgs,\n",
        "                         \"mask_path\": masks\n",
        "                        })\n",
        "def pos_neg_diagnosis(mask_path):\n",
        "    value = np.max(cv2.imread(mask_path))\n",
        "    if value > 0 : \n",
        "        return 1\n",
        "    else:\n",
        "        return 0\n",
        "    \n",
        "df['mask'] = df['mask_path'].apply(lambda x: pos_neg_diagnosis(x))\n",
        "df"
      ],
      "execution_count": 22,
      "outputs": [
        {
          "output_type": "execute_result",
          "data": {
            "text/html": [
              "<div>\n",
              "<style scoped>\n",
              "    .dataframe tbody tr th:only-of-type {\n",
              "        vertical-align: middle;\n",
              "    }\n",
              "\n",
              "    .dataframe tbody tr th {\n",
              "        vertical-align: top;\n",
              "    }\n",
              "\n",
              "    .dataframe thead th {\n",
              "        text-align: right;\n",
              "    }\n",
              "</style>\n",
              "<table border=\"1\" class=\"dataframe\">\n",
              "  <thead>\n",
              "    <tr style=\"text-align: right;\">\n",
              "      <th></th>\n",
              "      <th>patient_id</th>\n",
              "      <th>image_path</th>\n",
              "      <th>mask_path</th>\n",
              "      <th>mask</th>\n",
              "    </tr>\n",
              "  </thead>\n",
              "  <tbody>\n",
              "    <tr>\n",
              "      <th>0</th>\n",
              "      <td>TCGA_CS_5396_20010302</td>\n",
              "      <td>/content/drive/MyDrive/Input_MRI_S/lgg-mri-seg...</td>\n",
              "      <td>/content/drive/MyDrive/Input_MRI_S/lgg-mri-seg...</td>\n",
              "      <td>0</td>\n",
              "    </tr>\n",
              "    <tr>\n",
              "      <th>1</th>\n",
              "      <td>TCGA_CS_5396_20010302</td>\n",
              "      <td>/content/drive/MyDrive/Input_MRI_S/lgg-mri-seg...</td>\n",
              "      <td>/content/drive/MyDrive/Input_MRI_S/lgg-mri-seg...</td>\n",
              "      <td>0</td>\n",
              "    </tr>\n",
              "    <tr>\n",
              "      <th>2</th>\n",
              "      <td>TCGA_CS_5396_20010302</td>\n",
              "      <td>/content/drive/MyDrive/Input_MRI_S/lgg-mri-seg...</td>\n",
              "      <td>/content/drive/MyDrive/Input_MRI_S/lgg-mri-seg...</td>\n",
              "      <td>0</td>\n",
              "    </tr>\n",
              "    <tr>\n",
              "      <th>3</th>\n",
              "      <td>TCGA_CS_5396_20010302</td>\n",
              "      <td>/content/drive/MyDrive/Input_MRI_S/lgg-mri-seg...</td>\n",
              "      <td>/content/drive/MyDrive/Input_MRI_S/lgg-mri-seg...</td>\n",
              "      <td>0</td>\n",
              "    </tr>\n",
              "    <tr>\n",
              "      <th>4</th>\n",
              "      <td>TCGA_CS_5396_20010302</td>\n",
              "      <td>/content/drive/MyDrive/Input_MRI_S/lgg-mri-seg...</td>\n",
              "      <td>/content/drive/MyDrive/Input_MRI_S/lgg-mri-seg...</td>\n",
              "      <td>0</td>\n",
              "    </tr>\n",
              "    <tr>\n",
              "      <th>...</th>\n",
              "      <td>...</td>\n",
              "      <td>...</td>\n",
              "      <td>...</td>\n",
              "      <td>...</td>\n",
              "    </tr>\n",
              "    <tr>\n",
              "      <th>3924</th>\n",
              "      <td>TCGA_HT_7684_19950816</td>\n",
              "      <td>/content/drive/MyDrive/Input_MRI_S/lgg-mri-seg...</td>\n",
              "      <td>/content/drive/MyDrive/Input_MRI_S/lgg-mri-seg...</td>\n",
              "      <td>0</td>\n",
              "    </tr>\n",
              "    <tr>\n",
              "      <th>3925</th>\n",
              "      <td>TCGA_HT_7684_19950816</td>\n",
              "      <td>/content/drive/MyDrive/Input_MRI_S/lgg-mri-seg...</td>\n",
              "      <td>/content/drive/MyDrive/Input_MRI_S/lgg-mri-seg...</td>\n",
              "      <td>0</td>\n",
              "    </tr>\n",
              "    <tr>\n",
              "      <th>3926</th>\n",
              "      <td>TCGA_HT_7684_19950816</td>\n",
              "      <td>/content/drive/MyDrive/Input_MRI_S/lgg-mri-seg...</td>\n",
              "      <td>/content/drive/MyDrive/Input_MRI_S/lgg-mri-seg...</td>\n",
              "      <td>0</td>\n",
              "    </tr>\n",
              "    <tr>\n",
              "      <th>3927</th>\n",
              "      <td>TCGA_HT_7684_19950816</td>\n",
              "      <td>/content/drive/MyDrive/Input_MRI_S/lgg-mri-seg...</td>\n",
              "      <td>/content/drive/MyDrive/Input_MRI_S/lgg-mri-seg...</td>\n",
              "      <td>0</td>\n",
              "    </tr>\n",
              "    <tr>\n",
              "      <th>3928</th>\n",
              "      <td>TCGA_HT_7684_19950816</td>\n",
              "      <td>/content/drive/MyDrive/Input_MRI_S/lgg-mri-seg...</td>\n",
              "      <td>/content/drive/MyDrive/Input_MRI_S/lgg-mri-seg...</td>\n",
              "      <td>0</td>\n",
              "    </tr>\n",
              "  </tbody>\n",
              "</table>\n",
              "<p>3929 rows × 4 columns</p>\n",
              "</div>"
            ],
            "text/plain": [
              "                 patient_id  ... mask\n",
              "0     TCGA_CS_5396_20010302  ...    0\n",
              "1     TCGA_CS_5396_20010302  ...    0\n",
              "2     TCGA_CS_5396_20010302  ...    0\n",
              "3     TCGA_CS_5396_20010302  ...    0\n",
              "4     TCGA_CS_5396_20010302  ...    0\n",
              "...                     ...  ...  ...\n",
              "3924  TCGA_HT_7684_19950816  ...    0\n",
              "3925  TCGA_HT_7684_19950816  ...    0\n",
              "3926  TCGA_HT_7684_19950816  ...    0\n",
              "3927  TCGA_HT_7684_19950816  ...    0\n",
              "3928  TCGA_HT_7684_19950816  ...    0\n",
              "\n",
              "[3929 rows x 4 columns]"
            ]
          },
          "metadata": {
            "tags": []
          },
          "execution_count": 22
        }
      ]
    },
    {
      "cell_type": "code",
      "metadata": {
        "colab": {
          "base_uri": "https://localhost:8080/",
          "height": 406
        },
        "id": "tJ02ACfqUTlM",
        "outputId": "a3293be4-040e-4ce9-a16b-6526a34efa60"
      },
      "source": [
        "df"
      ],
      "execution_count": 49,
      "outputs": [
        {
          "output_type": "execute_result",
          "data": {
            "text/html": [
              "<div>\n",
              "<style scoped>\n",
              "    .dataframe tbody tr th:only-of-type {\n",
              "        vertical-align: middle;\n",
              "    }\n",
              "\n",
              "    .dataframe tbody tr th {\n",
              "        vertical-align: top;\n",
              "    }\n",
              "\n",
              "    .dataframe thead th {\n",
              "        text-align: right;\n",
              "    }\n",
              "</style>\n",
              "<table border=\"1\" class=\"dataframe\">\n",
              "  <thead>\n",
              "    <tr style=\"text-align: right;\">\n",
              "      <th></th>\n",
              "      <th>mri_scan</th>\n",
              "      <th>mask</th>\n",
              "    </tr>\n",
              "  </thead>\n",
              "  <tbody>\n",
              "    <tr>\n",
              "      <th>0</th>\n",
              "      <td>/content/drive/MyDrive/Input_MRI_S/lgg-mri-seg...</td>\n",
              "      <td>/content/drive/MyDrive/Input_MRI_S/lgg-mri-seg...</td>\n",
              "    </tr>\n",
              "    <tr>\n",
              "      <th>1</th>\n",
              "      <td>/content/drive/MyDrive/Input_MRI_S/lgg-mri-seg...</td>\n",
              "      <td>/content/drive/MyDrive/Input_MRI_S/lgg-mri-seg...</td>\n",
              "    </tr>\n",
              "    <tr>\n",
              "      <th>2</th>\n",
              "      <td>/content/drive/MyDrive/Input_MRI_S/lgg-mri-seg...</td>\n",
              "      <td>/content/drive/MyDrive/Input_MRI_S/lgg-mri-seg...</td>\n",
              "    </tr>\n",
              "    <tr>\n",
              "      <th>3</th>\n",
              "      <td>/content/drive/MyDrive/Input_MRI_S/lgg-mri-seg...</td>\n",
              "      <td>/content/drive/MyDrive/Input_MRI_S/lgg-mri-seg...</td>\n",
              "    </tr>\n",
              "    <tr>\n",
              "      <th>4</th>\n",
              "      <td>/content/drive/MyDrive/Input_MRI_S/lgg-mri-seg...</td>\n",
              "      <td>/content/drive/MyDrive/Input_MRI_S/lgg-mri-seg...</td>\n",
              "    </tr>\n",
              "    <tr>\n",
              "      <th>...</th>\n",
              "      <td>...</td>\n",
              "      <td>...</td>\n",
              "    </tr>\n",
              "    <tr>\n",
              "      <th>3924</th>\n",
              "      <td>/content/drive/MyDrive/Input_MRI_S/lgg-mri-seg...</td>\n",
              "      <td>/content/drive/MyDrive/Input_MRI_S/lgg-mri-seg...</td>\n",
              "    </tr>\n",
              "    <tr>\n",
              "      <th>3925</th>\n",
              "      <td>/content/drive/MyDrive/Input_MRI_S/lgg-mri-seg...</td>\n",
              "      <td>/content/drive/MyDrive/Input_MRI_S/lgg-mri-seg...</td>\n",
              "    </tr>\n",
              "    <tr>\n",
              "      <th>3926</th>\n",
              "      <td>/content/drive/MyDrive/Input_MRI_S/lgg-mri-seg...</td>\n",
              "      <td>/content/drive/MyDrive/Input_MRI_S/lgg-mri-seg...</td>\n",
              "    </tr>\n",
              "    <tr>\n",
              "      <th>3927</th>\n",
              "      <td>/content/drive/MyDrive/Input_MRI_S/lgg-mri-seg...</td>\n",
              "      <td>/content/drive/MyDrive/Input_MRI_S/lgg-mri-seg...</td>\n",
              "    </tr>\n",
              "    <tr>\n",
              "      <th>3928</th>\n",
              "      <td>/content/drive/MyDrive/Input_MRI_S/lgg-mri-seg...</td>\n",
              "      <td>/content/drive/MyDrive/Input_MRI_S/lgg-mri-seg...</td>\n",
              "    </tr>\n",
              "  </tbody>\n",
              "</table>\n",
              "<p>3929 rows × 2 columns</p>\n",
              "</div>"
            ],
            "text/plain": [
              "                                               mri_scan                                               mask\n",
              "0     /content/drive/MyDrive/Input_MRI_S/lgg-mri-seg...  /content/drive/MyDrive/Input_MRI_S/lgg-mri-seg...\n",
              "1     /content/drive/MyDrive/Input_MRI_S/lgg-mri-seg...  /content/drive/MyDrive/Input_MRI_S/lgg-mri-seg...\n",
              "2     /content/drive/MyDrive/Input_MRI_S/lgg-mri-seg...  /content/drive/MyDrive/Input_MRI_S/lgg-mri-seg...\n",
              "3     /content/drive/MyDrive/Input_MRI_S/lgg-mri-seg...  /content/drive/MyDrive/Input_MRI_S/lgg-mri-seg...\n",
              "4     /content/drive/MyDrive/Input_MRI_S/lgg-mri-seg...  /content/drive/MyDrive/Input_MRI_S/lgg-mri-seg...\n",
              "...                                                 ...                                                ...\n",
              "3924  /content/drive/MyDrive/Input_MRI_S/lgg-mri-seg...  /content/drive/MyDrive/Input_MRI_S/lgg-mri-seg...\n",
              "3925  /content/drive/MyDrive/Input_MRI_S/lgg-mri-seg...  /content/drive/MyDrive/Input_MRI_S/lgg-mri-seg...\n",
              "3926  /content/drive/MyDrive/Input_MRI_S/lgg-mri-seg...  /content/drive/MyDrive/Input_MRI_S/lgg-mri-seg...\n",
              "3927  /content/drive/MyDrive/Input_MRI_S/lgg-mri-seg...  /content/drive/MyDrive/Input_MRI_S/lgg-mri-seg...\n",
              "3928  /content/drive/MyDrive/Input_MRI_S/lgg-mri-seg...  /content/drive/MyDrive/Input_MRI_S/lgg-mri-seg...\n",
              "\n",
              "[3929 rows x 2 columns]"
            ]
          },
          "metadata": {
            "tags": []
          },
          "execution_count": 49
        }
      ]
    },
    {
      "cell_type": "code",
      "metadata": {
        "colab": {
          "base_uri": "https://localhost:8080/",
          "height": 266
        },
        "id": "5f7a60mzUTlN",
        "outputId": "d44c0a60-ca24-4733-d0de-1849317a8b45"
      },
      "source": [
        "for i in range(len(df)):\n",
        "    if cv2.imread(df.mask_path[i]).max() > 0:\n",
        "        break\n",
        "\n",
        "plt.figure(figsize=(8,8))\n",
        "plt.subplot(1,2,1)\n",
        "plt.imshow(cv2.imread(df.mask_path[i]));\n",
        "plt.title('Tumor Location')\n",
        "\n",
        "plt.subplot(1,2,2)\n",
        "plt.imshow(cv2.imread(df.image_path[i]));"
      ],
      "execution_count": 24,
      "outputs": [
        {
          "output_type": "display_data",
          "data": {
            "image/png": "[encoded data removed]",
            "text/plain": [
              "<Figure size 576x576 with 2 Axes>"
            ]
          },
          "metadata": {
            "tags": [],
            "needs_background": "light"
          }
        }
      ]
    },
    {
      "cell_type": "code",
      "metadata": {
        "colab": {
          "base_uri": "https://localhost:8080/"
        },
        "id": "rP4xnePRUTlN",
        "outputId": "bd3c6e1b-1e27-420a-9f54-b423104772cc"
      },
      "source": [
        "cv2.imread(df.mask_path[i]).max(), cv2.imread(df.mask_path[i]).min()"
      ],
      "execution_count": 28,
      "outputs": [
        {
          "output_type": "execute_result",
          "data": {
            "text/plain": [
              "(255, 0)"
            ]
          },
          "metadata": {
            "tags": []
          },
          "execution_count": 28
        }
      ]
    },
    {
      "cell_type": "code",
      "metadata": {
        "id": "ueXNYfNKUTlP"
      },
      "source": [
        "brain_df_train = df.drop(columns=['patient_id'])\n",
        "\n",
        "\n",
        "\n",
        "# # Convert the data in mask column to string format, to use categorical/binary mode in flow_from_dataframe\n",
        "# brain_df_train['mask'] = brain_df_train['mask'].apply(lambda x: str(x))\n",
        "# brain_df_train.info()\n",
        "\n",
        "# brain_df_mask = brain_df[brain_df['mask'] == 1]\n",
        "# brain_df_mask.shape"
      ],
      "execution_count": 29,
      "outputs": []
    },
    {
      "cell_type": "code",
      "metadata": {
        "id": "gi_VXkLoUTlP"
      },
      "source": [
        "\n",
        "\n",
        "#for Classification\n",
        "# from sklearn.model_selection import train_test_split\n",
        "\n",
        "# train, test = train_test_split(brain_df_train, test_size=0.15)\n",
        "\n",
        "# from keras_preprocessing.image import ImageDataGenerator\n",
        "\n",
        "# datagen = ImageDataGenerator(rescale=1./255., validation_split=0.1)\n",
        "\n",
        "# train_generator = datagen.flow_from_dataframe(train,\n",
        "#                                               directory='./',\n",
        "#                                               x_col='image_path',\n",
        "#                                               y_col='mask',\n",
        "#                                               subset='training',\n",
        "#                                               class_mode='categorical',\n",
        "#                                               batch_size=16,\n",
        "#                                               shuffle=True,\n",
        "#                                               target_size=(256,256)\n",
        "#                                              )\n",
        "# valid_generator = datagen.flow_from_dataframe(train,\n",
        "#                                               directory='./',\n",
        "#                                               x_col='image_path',\n",
        "#                                               y_col='mask',\n",
        "#                                               subset='validation',\n",
        "#                                               class_mode='categorical',\n",
        "#                                               batch_size=16,\n",
        "#                                               shuffle=True,\n",
        "#                                               target_size=(256,256)\n",
        "#                                              )\n",
        "# test_datagen = ImageDataGenerator(rescale=1./255.)\n",
        "# test_generator = test_datagen.flow_from_dataframe(test,\n",
        "#                                                   directory='./',\n",
        "#                                                   x_col='image_path',\n",
        "#                                                   y_col='mask',\n",
        "#                                                   class_mode='categorical',\n",
        "#                                                   batch_size=16,\n",
        "#                                                   shuffle=False,\n",
        "#                                                   target_size=(256,256)\n",
        "#                                                  )"
      ],
      "execution_count": null,
      "outputs": []
    },
    {
      "cell_type": "code",
      "metadata": {
        "id": "sHUVJcaAEYss",
        "colab": {
          "base_uri": "https://localhost:8080/"
        },
        "outputId": "ccaa3a90-f1b0-46ad-a4bf-8af9ad897243"
      },
      "source": [
        "# creating test, train and val sets for segmentation\n",
        "from sklearn.model_selection import train_test_split\n",
        "\n",
        "df = pd.DataFrame(data={\"mri_scan\": df[\"image_path\"], 'mask' : df[\"mask_path\"]})\n",
        "df_train, df_test = train_test_split(df,test_size = 0.1)\n",
        "df_train, df_val = train_test_split(df_train,test_size = 0.2)\n",
        "print(df_train.values.shape)\n",
        "print(df_val.values.shape)\n",
        "print(df_test.values.shape)\n"
      ],
      "execution_count": 30,
      "outputs": [
        {
          "output_type": "stream",
          "text": [
            "(2828, 2)\n",
            "(708, 2)\n",
            "(393, 2)\n"
          ],
          "name": "stdout"
        }
      ]
    },
    {
      "cell_type": "code",
      "metadata": {
        "id": "mCsTqevNOusm"
      },
      "source": [
        "im_width = 256\n",
        "im_height = 256\n",
        "EPOCHS = 30\n",
        "BATCH_SIZE = 16\n",
        "learning_rate = 1e-4"
      ],
      "execution_count": 38,
      "outputs": []
    },
    {
      "cell_type": "code",
      "metadata": {
        "id": "a3FdcfbbOusn"
      },
      "source": [
        "def train_generator(data_frame, batch_size, aug_dict,\n",
        "        image_color_mode=\"rgb\",\n",
        "        mask_color_mode=\"grayscale\",\n",
        "        image_save_prefix=\"image\",\n",
        "        mask_save_prefix=\"mask\",\n",
        "        save_to_dir=None,\n",
        "        target_size=(256,256),\n",
        "        seed=1):\n",
        "\n",
        "    image_datagen = ImageDataGenerator(**aug_dict)\n",
        "    mask_datagen = ImageDataGenerator(**aug_dict)\n",
        "    \n",
        "    image_generator = image_datagen.flow_from_dataframe(\n",
        "        data_frame,\n",
        "        x_col = \"mri_scan\",\n",
        "        class_mode = None,\n",
        "        color_mode = image_color_mode,\n",
        "        target_size = target_size,\n",
        "        batch_size = batch_size,\n",
        "        save_to_dir = save_to_dir,\n",
        "        save_prefix  = image_save_prefix,\n",
        "        seed = seed)\n",
        "\n",
        "    mask_generator = mask_datagen.flow_from_dataframe(\n",
        "        data_frame,\n",
        "        x_col = \"mask\",\n",
        "        class_mode = None,\n",
        "        color_mode = mask_color_mode,\n",
        "        target_size = target_size,\n",
        "        batch_size = batch_size,\n",
        "        save_to_dir = save_to_dir,\n",
        "        save_prefix  = mask_save_prefix,\n",
        "        seed = seed)\n",
        "\n",
        "    train_gen = zip(image_generator, mask_generator)\n",
        "    \n",
        "    for (img, mask) in train_gen:\n",
        "        img, mask = adjust_data(img, mask)\n",
        "        yield (img,mask)\n",
        "\n",
        "def adjust_data(img,mask):\n",
        "    img = img / 255\n",
        "    mask = mask / 255\n",
        "    mask[mask > 0.5] = 1\n",
        "    mask[mask <= 0.5] = 0\n",
        "    \n",
        "    return (img, mask)\n"
      ],
      "execution_count": 39,
      "outputs": []
    },
    {
      "cell_type": "code",
      "metadata": {
        "id": "-6Z8qSFGOusn"
      },
      "source": [
        "\n",
        "from keras_preprocessing.image import ImageDataGenerator\n",
        "\n",
        "train_generator_args = dict(rotation_range=0.2,\n",
        "                            width_shift_range=0.05,\n",
        "                            height_shift_range=0.05,\n",
        "                            shear_range=0.05,\n",
        "                            zoom_range=0.05,\n",
        "                            horizontal_flip=True,\n",
        "                            fill_mode='nearest')\n",
        "train_gen = train_generator(df_train, BATCH_SIZE,\n",
        "                                train_generator_args,\n",
        "                                target_size=(im_height, im_width))\n",
        "    \n",
        "test_gener = train_generator(df_val, BATCH_SIZE,\n",
        "                                dict(),\n",
        "                                target_size=(im_height, im_width))"
      ],
      "execution_count": 40,
      "outputs": []
    },
    {
      "cell_type": "code",
      "metadata": {
        "id": "3RRXmjLgOuso"
      },
      "source": [
        "smooth=100\n",
        "\n",
        "def dice_coef(y_true, y_pred):\n",
        "    y_truef=K.flatten(y_true)\n",
        "    y_predf=K.flatten(y_pred)\n",
        "    And=K.sum(y_truef* y_predf)\n",
        "    return((2* And + smooth) / (K.sum(y_truef) + K.sum(y_predf) + smooth))\n",
        "\n",
        "def dice_coef_loss(y_true, y_pred):\n",
        "    return -dice_coef(y_true, y_pred)\n",
        "\n",
        "def iou(y_true, y_pred):\n",
        "    intersection = K.sum(y_true * y_pred)\n",
        "    sum_ = K.sum(y_true + y_pred)\n",
        "    jac = (intersection + smooth) / (sum_ - intersection + smooth)\n",
        "    return jac\n",
        "\n",
        "def jac_distance(y_true, y_pred):\n",
        "    y_truef=K.flatten(y_true)\n",
        "    y_predf=K.flatten(y_pred)\n",
        "\n",
        "    return - iou(y_true, y_pred)"
      ],
      "execution_count": 34,
      "outputs": []
    },
    {
      "cell_type": "markdown",
      "metadata": {
        "id": "kAFH-9JkUTlR"
      },
      "source": [
        "# 6: TRAIN A CLASSIFIER MODEL TO DETECT IF TUMOR EXISTS OR NOT"
      ]
    },
    {
      "cell_type": "code",
      "metadata": {
        "id": "fCCtFq7vUTlR"
      },
      "source": [
        "def unet():\n",
        "    \n",
        "    from tensorflow.keras.applications import VGG19\n",
        "    #clf_model = VGG19(weights='imagenet', include_top=False, input_tensor=Input(shape=(256,256,3)))\n",
        "    inputs = Input(shape=(256,256, 3))\n",
        "    encoder = VGG19(input_tensor=inputs, weights=\"imagenet\", include_top=False)\n",
        "    encoder_output = encoder.get_layer(\"block5_conv4\").output #Conv Middle Layer\n",
        "\n",
        "\n",
        "    #decoder4\n",
        "    deconv4=UpSampling2D(size=(2,2))(encoder_output)\n",
        "    uconv4 = encoder.get_layer(\"block4_conv4\").output\n",
        "    uconv4=Concatenate()([deconv4,uconv4])\n",
        "\n",
        "    uconv4 = Conv2D(512, (3, 3), activation=\"relu\",padding=\"same\",strides=(1,1))(uconv4)\n",
        "    #uconv4 = BatchNormalization()(uconv4)\n",
        "    uconv4 = Conv2D(512, (3, 3), activation=\"relu\",padding=\"same\",strides=(1,1))(uconv4)\n",
        "    #uconv4 = BatchNormalization()(uconv4)\n",
        "    uconv4 = Conv2D(512, (3, 3), activation=\"relu\",padding=\"same\",strides=(1,1))(uconv4)\n",
        "    #uconv4 = BatchNormalization()(uconv4)\n",
        "    uconv4 = Conv2D(512, (3, 3), activation=\"relu\",padding=\"same\",strides=(1,1))(uconv4)\n",
        "    #uconv4 = BatchNormalization()(uconv4)\n",
        "\n",
        "\n",
        "    #decoder3\n",
        "    deconv3=UpSampling2D(size=(2,2))(uconv4)\n",
        "    uconv3 = encoder.get_layer(\"block3_conv4\").output\n",
        "    uconv3=Concatenate()([deconv3,uconv3])\n",
        "\n",
        "    uconv3 = Conv2D(256, (3, 3), activation=\"relu\",padding=\"same\",strides=(1,1))(uconv3)\n",
        "    #uconv3 = BatchNormalization()(uconv3)\n",
        "    uconv3 = Conv2D(256, (3, 3), activation=\"relu\",padding=\"same\",strides=(1,1))(uconv3)\n",
        "    #uconv3 = BatchNormalization()(uconv3)\n",
        "    uconv3 = Conv2D(256, (3, 3), activation=\"relu\",padding=\"same\",strides=(1,1))(uconv3)\n",
        "    #uconv3 = BatchNormalization()(uconv3)\n",
        "    uconv3 = Conv2D(256, (3, 3), activation=\"relu\",padding=\"same\",strides=(1,1))(uconv3)\n",
        "    #uconv3 = BatchNormalization()(uconv3)\n",
        "\n",
        "\n",
        "    #decoder2\n",
        "    deconv2=UpSampling2D(size=(2,2))(uconv3)\n",
        "    uconv2 = encoder.get_layer(\"block2_conv2\").output\n",
        "    uconv2=Concatenate()([deconv2,uconv2])\n",
        "\n",
        "    uconv2 = Conv2D(128, (3, 3), activation=\"relu\", padding=\"same\",strides=(1,1))(uconv2)\n",
        "    #uconv2 = BatchNormalization()(uconv2)\n",
        "    uconv2 = Conv2D(128, (3, 3), activation=\"relu\", padding=\"same\",strides=(1,1))(uconv2)\n",
        "    #uconv2 = BatchNormalization()(uconv2)\n",
        "\n",
        "    #decoder1\n",
        "    deconv1=UpSampling2D(size=(2,2))(uconv2)\n",
        "    uconv1 = encoder.get_layer(\"block1_conv2\").output\n",
        "    uconv1=Concatenate()([deconv1,uconv1])\n",
        "\n",
        "    uconv1 = Conv2D(64, (3, 3), activation=\"relu\", padding=\"same\",strides=(1,1))(uconv1)\n",
        "    #uconv1 = BatchNormalization()(uconv1)\n",
        "    uconv1 = Conv2D(64, (3, 3), activation=\"relu\", padding=\"same\",strides=(1,1))(uconv1)\n",
        "    #uconv1 = BatchNormalization()(uconv1)\n",
        "\n",
        "\n",
        "    #output layer\n",
        "    output_final = Conv2D(1, (1, 1),activation=\"sigmoid\", padding='same',strides=(1,1))(uconv1)\n",
        "    \n",
        "    return Model(inputs, output_final)"
      ],
      "execution_count": 35,
      "outputs": []
    },
    {
      "cell_type": "code",
      "metadata": {
        "id": "BEYfryZqOusp",
        "colab": {
          "base_uri": "https://localhost:8080/"
        },
        "outputId": "2543f990-2b17-442b-bb64-b3d84655ccf1"
      },
      "source": [
        "model = unet()\n",
        "model.summary()"
      ],
      "execution_count": 36,
      "outputs": [
        {
          "output_type": "stream",
          "text": [
            "Downloading data from https://storage.googleapis.com/tensorflow/keras-applications/vgg19/vgg19_weights_tf_dim_ordering_tf_kernels_notop.h5\n",
            "80142336/80134624 [==============================] - 1s 0us/step\n",
            "Model: \"model\"\n",
            "__________________________________________________________________________________________________\n",
            "Layer (type)                    Output Shape         Param #     Connected to                     \n",
            "==================================================================================================\n",
            "input_1 (InputLayer)            [(None, 256, 256, 3) 0                                            \n",
            "__________________________________________________________________________________________________\n",
            "block1_conv1 (Conv2D)           (None, 256, 256, 64) 1792        input_1[0][0]                    \n",
            "__________________________________________________________________________________________________\n",
            "block1_conv2 (Conv2D)           (None, 256, 256, 64) 36928       block1_conv1[0][0]               \n",
            "__________________________________________________________________________________________________\n",
            "block1_pool (MaxPooling2D)      (None, 128, 128, 64) 0           block1_conv2[0][0]               \n",
            "__________________________________________________________________________________________________\n",
            "block2_conv1 (Conv2D)           (None, 128, 128, 128 73856       block1_pool[0][0]                \n",
            "__________________________________________________________________________________________________\n",
            "block2_conv2 (Conv2D)           (None, 128, 128, 128 147584      block2_conv1[0][0]               \n",
            "__________________________________________________________________________________________________\n",
            "block2_pool (MaxPooling2D)      (None, 64, 64, 128)  0           block2_conv2[0][0]               \n",
            "__________________________________________________________________________________________________\n",
            "block3_conv1 (Conv2D)           (None, 64, 64, 256)  295168      block2_pool[0][0]                \n",
            "__________________________________________________________________________________________________\n",
            "block3_conv2 (Conv2D)           (None, 64, 64, 256)  590080      block3_conv1[0][0]               \n",
            "__________________________________________________________________________________________________\n",
            "block3_conv3 (Conv2D)           (None, 64, 64, 256)  590080      block3_conv2[0][0]               \n",
            "__________________________________________________________________________________________________\n",
            "block3_conv4 (Conv2D)           (None, 64, 64, 256)  590080      block3_conv3[0][0]               \n",
            "__________________________________________________________________________________________________\n",
            "block3_pool (MaxPooling2D)      (None, 32, 32, 256)  0           block3_conv4[0][0]               \n",
            "__________________________________________________________________________________________________\n",
            "block4_conv1 (Conv2D)           (None, 32, 32, 512)  1180160     block3_pool[0][0]                \n",
            "__________________________________________________________________________________________________\n",
            "block4_conv2 (Conv2D)           (None, 32, 32, 512)  2359808     block4_conv1[0][0]               \n",
            "__________________________________________________________________________________________________\n",
            "block4_conv3 (Conv2D)           (None, 32, 32, 512)  2359808     block4_conv2[0][0]               \n",
            "__________________________________________________________________________________________________\n",
            "block4_conv4 (Conv2D)           (None, 32, 32, 512)  2359808     block4_conv3[0][0]               \n",
            "__________________________________________________________________________________________________\n",
            "block4_pool (MaxPooling2D)      (None, 16, 16, 512)  0           block4_conv4[0][0]               \n",
            "__________________________________________________________________________________________________\n",
            "block5_conv1 (Conv2D)           (None, 16, 16, 512)  2359808     block4_pool[0][0]                \n",
            "__________________________________________________________________________________________________\n",
            "block5_conv2 (Conv2D)           (None, 16, 16, 512)  2359808     block5_conv1[0][0]               \n",
            "__________________________________________________________________________________________________\n",
            "block5_conv3 (Conv2D)           (None, 16, 16, 512)  2359808     block5_conv2[0][0]               \n",
            "__________________________________________________________________________________________________\n",
            "block5_conv4 (Conv2D)           (None, 16, 16, 512)  2359808     block5_conv3[0][0]               \n",
            "__________________________________________________________________________________________________\n",
            "up_sampling2d (UpSampling2D)    (None, 32, 32, 512)  0           block5_conv4[0][0]               \n",
            "__________________________________________________________________________________________________\n",
            "concatenate (Concatenate)       (None, 32, 32, 1024) 0           up_sampling2d[0][0]              \n",
            "                                                                 block4_conv4[0][0]               \n",
            "__________________________________________________________________________________________________\n",
            "conv2d (Conv2D)                 (None, 32, 32, 512)  4719104     concatenate[0][0]                \n",
            "__________________________________________________________________________________________________\n",
            "conv2d_1 (Conv2D)               (None, 32, 32, 512)  2359808     conv2d[0][0]                     \n",
            "__________________________________________________________________________________________________\n",
            "conv2d_2 (Conv2D)               (None, 32, 32, 512)  2359808     conv2d_1[0][0]                   \n",
            "__________________________________________________________________________________________________\n",
            "conv2d_3 (Conv2D)               (None, 32, 32, 512)  2359808     conv2d_2[0][0]                   \n",
            "__________________________________________________________________________________________________\n",
            "up_sampling2d_1 (UpSampling2D)  (None, 64, 64, 512)  0           conv2d_3[0][0]                   \n",
            "__________________________________________________________________________________________________\n",
            "concatenate_1 (Concatenate)     (None, 64, 64, 768)  0           up_sampling2d_1[0][0]            \n",
            "                                                                 block3_conv4[0][0]               \n",
            "__________________________________________________________________________________________________\n",
            "conv2d_4 (Conv2D)               (None, 64, 64, 256)  1769728     concatenate_1[0][0]              \n",
            "__________________________________________________________________________________________________\n",
            "conv2d_5 (Conv2D)               (None, 64, 64, 256)  590080      conv2d_4[0][0]                   \n",
            "__________________________________________________________________________________________________\n",
            "conv2d_6 (Conv2D)               (None, 64, 64, 256)  590080      conv2d_5[0][0]                   \n",
            "__________________________________________________________________________________________________\n",
            "conv2d_7 (Conv2D)               (None, 64, 64, 256)  590080      conv2d_6[0][0]                   \n",
            "__________________________________________________________________________________________________\n",
            "up_sampling2d_2 (UpSampling2D)  (None, 128, 128, 256 0           conv2d_7[0][0]                   \n",
            "__________________________________________________________________________________________________\n",
            "concatenate_2 (Concatenate)     (None, 128, 128, 384 0           up_sampling2d_2[0][0]            \n",
            "                                                                 block2_conv2[0][0]               \n",
            "__________________________________________________________________________________________________\n",
            "conv2d_8 (Conv2D)               (None, 128, 128, 128 442496      concatenate_2[0][0]              \n",
            "__________________________________________________________________________________________________\n",
            "conv2d_9 (Conv2D)               (None, 128, 128, 128 147584      conv2d_8[0][0]                   \n",
            "__________________________________________________________________________________________________\n",
            "up_sampling2d_3 (UpSampling2D)  (None, 256, 256, 128 0           conv2d_9[0][0]                   \n",
            "__________________________________________________________________________________________________\n",
            "concatenate_3 (Concatenate)     (None, 256, 256, 192 0           up_sampling2d_3[0][0]            \n",
            "                                                                 block1_conv2[0][0]               \n",
            "__________________________________________________________________________________________________\n",
            "conv2d_10 (Conv2D)              (None, 256, 256, 64) 110656      concatenate_3[0][0]              \n",
            "__________________________________________________________________________________________________\n",
            "conv2d_11 (Conv2D)              (None, 256, 256, 64) 36928       conv2d_10[0][0]                  \n",
            "__________________________________________________________________________________________________\n",
            "conv2d_12 (Conv2D)              (None, 256, 256, 1)  65          conv2d_11[0][0]                  \n",
            "==================================================================================================\n",
            "Total params: 36,100,609\n",
            "Trainable params: 36,100,609\n",
            "Non-trainable params: 0\n",
            "__________________________________________________________________________________________________\n"
          ],
          "name": "stdout"
        }
      ]
    },
    {
      "cell_type": "code",
      "metadata": {
        "id": "_PNmgbX5eJXW",
        "colab": {
          "base_uri": "https://localhost:8080/"
        },
        "outputId": "6485c552-ca0d-44ce-99e8-70fb825f759c"
      },
      "source": [
        "model = unet()\n",
        "\n",
        "decay_rate = learning_rate / EPOCHS\n",
        "with tf.device('/device:GPU:0'):\n",
        "    opt = Adam(lr=learning_rate, beta_1=0.9, beta_2=0.999, epsilon=None, decay=decay_rate, amsgrad=False)\n",
        "    model.compile(optimizer=opt, loss=dice_coef_loss, metrics=[\"binary_accuracy\", iou, dice_coef])\n",
        "\n",
        "    callbacks = [ModelCheckpoint('unet_brain_mri_seg.hdf5', verbose=1, save_best_only=True)]\n",
        "\n",
        "    history = model.fit(train_gen,\n",
        "                    steps_per_epoch=len(df_train) / BATCH_SIZE, \n",
        "                    epochs=EPOCHS, \n",
        "                    callbacks=callbacks,\n",
        "                    validation_data = test_gener,\n",
        "                    validation_steps=len(df_val) / BATCH_SIZE)\n",
        "\n",
        "\n"
      ],
      "execution_count": 41,
      "outputs": [
        {
          "output_type": "stream",
          "text": [
            "Found 2828 validated image filenames.\n",
            "Found 2828 validated image filenames.\n",
            "Epoch 1/30\n",
            "177/176 [==============================] - ETA: -1s - loss: -0.3875 - binary_accuracy: 0.9542 - iou: 0.2752 - dice_coef: 0.3875Found 708 validated image filenames.\n",
            "Found 708 validated image filenames.\n",
            "176/176 [==============================] - 1238s 7s/step - loss: -0.3882 - binary_accuracy: 0.9544 - iou: 0.2757 - dice_coef: 0.3882 - val_loss: -0.5386 - val_binary_accuracy: 0.9932 - val_iou: 0.4100 - val_dice_coef: 0.5462\n",
            "\n",
            "Epoch 00001: val_loss improved from inf to -0.53859, saving model to unet_brain_mri_seg.hdf5\n",
            "Epoch 2/30\n",
            "176/176 [==============================] - 90s 507ms/step - loss: -0.6089 - binary_accuracy: 0.9927 - iou: 0.4613 - dice_coef: 0.6089 - val_loss: -0.6150 - val_binary_accuracy: 0.9942 - val_iou: 0.4663 - val_dice_coef: 0.6153\n",
            "\n",
            "Epoch 00002: val_loss improved from -0.53859 to -0.61496, saving model to unet_brain_mri_seg.hdf5\n",
            "Epoch 3/30\n",
            "176/176 [==============================] - 90s 508ms/step - loss: -0.6692 - binary_accuracy: 0.9938 - iou: 0.5259 - dice_coef: 0.6692 - val_loss: -0.6370 - val_binary_accuracy: 0.9932 - val_iou: 0.4920 - val_dice_coef: 0.6402\n",
            "\n",
            "Epoch 00003: val_loss improved from -0.61496 to -0.63699, saving model to unet_brain_mri_seg.hdf5\n",
            "Epoch 4/30\n",
            "176/176 [==============================] - 90s 508ms/step - loss: -0.7092 - binary_accuracy: 0.9946 - iou: 0.5778 - dice_coef: 0.7092 - val_loss: -0.7558 - val_binary_accuracy: 0.9952 - val_iou: 0.6238 - val_dice_coef: 0.7566\n",
            "\n",
            "Epoch 00004: val_loss improved from -0.63699 to -0.75581, saving model to unet_brain_mri_seg.hdf5\n",
            "Epoch 5/30\n",
            "176/176 [==============================] - 90s 509ms/step - loss: -0.7764 - binary_accuracy: 0.9957 - iou: 0.6515 - dice_coef: 0.7764 - val_loss: -0.7677 - val_binary_accuracy: 0.9959 - val_iou: 0.6387 - val_dice_coef: 0.7675\n",
            "\n",
            "Epoch 00005: val_loss improved from -0.75581 to -0.76767, saving model to unet_brain_mri_seg.hdf5\n",
            "Epoch 6/30\n",
            "176/176 [==============================] - 90s 509ms/step - loss: -0.7644 - binary_accuracy: 0.9957 - iou: 0.6416 - dice_coef: 0.7644 - val_loss: -0.7700 - val_binary_accuracy: 0.9959 - val_iou: 0.6322 - val_dice_coef: 0.7578\n",
            "\n",
            "Epoch 00006: val_loss improved from -0.76767 to -0.76995, saving model to unet_brain_mri_seg.hdf5\n",
            "Epoch 7/30\n",
            "176/176 [==============================] - 90s 509ms/step - loss: -0.7990 - binary_accuracy: 0.9963 - iou: 0.6809 - dice_coef: 0.7990 - val_loss: -0.7803 - val_binary_accuracy: 0.9958 - val_iou: 0.6522 - val_dice_coef: 0.7803\n",
            "\n",
            "Epoch 00007: val_loss improved from -0.76995 to -0.78027, saving model to unet_brain_mri_seg.hdf5\n",
            "Epoch 8/30\n",
            "176/176 [==============================] - 90s 509ms/step - loss: -0.8233 - binary_accuracy: 0.9966 - iou: 0.7090 - dice_coef: 0.8233 - val_loss: -0.8078 - val_binary_accuracy: 0.9965 - val_iou: 0.6983 - val_dice_coef: 0.8110\n",
            "\n",
            "Epoch 00008: val_loss improved from -0.78027 to -0.80778, saving model to unet_brain_mri_seg.hdf5\n",
            "Epoch 9/30\n",
            "176/176 [==============================] - 90s 509ms/step - loss: -0.8075 - binary_accuracy: 0.9965 - iou: 0.6923 - dice_coef: 0.8075 - val_loss: -0.6025 - val_binary_accuracy: 0.9942 - val_iou: 0.4728 - val_dice_coef: 0.6073\n",
            "\n",
            "Epoch 00009: val_loss did not improve from -0.80778\n",
            "Epoch 10/30\n",
            "176/176 [==============================] - 90s 510ms/step - loss: -0.7384 - binary_accuracy: 0.9947 - iou: 0.6056 - dice_coef: 0.7384 - val_loss: -0.7768 - val_binary_accuracy: 0.9965 - val_iou: 0.6503 - val_dice_coef: 0.7706\n",
            "\n",
            "Epoch 00010: val_loss did not improve from -0.80778\n",
            "Epoch 11/30\n",
            "176/176 [==============================] - 90s 507ms/step - loss: -0.8190 - binary_accuracy: 0.9967 - iou: 0.7071 - dice_coef: 0.8190 - val_loss: -0.8033 - val_binary_accuracy: 0.9961 - val_iou: 0.6877 - val_dice_coef: 0.8045\n",
            "\n",
            "Epoch 00011: val_loss did not improve from -0.80778\n",
            "Epoch 12/30\n",
            "176/176 [==============================] - 90s 507ms/step - loss: -0.8347 - binary_accuracy: 0.9969 - iou: 0.7310 - dice_coef: 0.8347 - val_loss: -0.8232 - val_binary_accuracy: 0.9973 - val_iou: 0.7263 - val_dice_coef: 0.8250\n",
            "\n",
            "Epoch 00012: val_loss improved from -0.80778 to -0.82321, saving model to unet_brain_mri_seg.hdf5\n",
            "Epoch 13/30\n",
            "176/176 [==============================] - 90s 509ms/step - loss: -0.8362 - binary_accuracy: 0.9971 - iou: 0.7334 - dice_coef: 0.8362 - val_loss: -0.8411 - val_binary_accuracy: 0.9969 - val_iou: 0.7356 - val_dice_coef: 0.8387\n",
            "\n",
            "Epoch 00013: val_loss improved from -0.82321 to -0.84105, saving model to unet_brain_mri_seg.hdf5\n",
            "Epoch 14/30\n",
            "176/176 [==============================] - 90s 508ms/step - loss: -0.8026 - binary_accuracy: 0.9963 - iou: 0.6908 - dice_coef: 0.8026 - val_loss: -0.7779 - val_binary_accuracy: 0.9965 - val_iou: 0.6618 - val_dice_coef: 0.7774\n",
            "\n",
            "Epoch 00014: val_loss did not improve from -0.84105\n",
            "Epoch 15/30\n",
            "176/176 [==============================] - 90s 508ms/step - loss: -0.7892 - binary_accuracy: 0.9959 - iou: 0.6681 - dice_coef: 0.7892 - val_loss: -0.8014 - val_binary_accuracy: 0.9967 - val_iou: 0.6856 - val_dice_coef: 0.8038\n",
            "\n",
            "Epoch 00015: val_loss did not improve from -0.84105\n",
            "Epoch 16/30\n",
            "176/176 [==============================] - 90s 508ms/step - loss: -0.8150 - binary_accuracy: 0.9966 - iou: 0.7022 - dice_coef: 0.8150 - val_loss: -0.8080 - val_binary_accuracy: 0.9964 - val_iou: 0.6891 - val_dice_coef: 0.8097\n",
            "\n",
            "Epoch 00016: val_loss did not improve from -0.84105\n",
            "Epoch 17/30\n",
            "176/176 [==============================] - 90s 508ms/step - loss: -0.7986 - binary_accuracy: 0.9967 - iou: 0.6858 - dice_coef: 0.7986 - val_loss: -0.8188 - val_binary_accuracy: 0.9969 - val_iou: 0.7059 - val_dice_coef: 0.8170\n",
            "\n",
            "Epoch 00017: val_loss did not improve from -0.84105\n",
            "Epoch 18/30\n",
            "176/176 [==============================] - 90s 508ms/step - loss: -0.8399 - binary_accuracy: 0.9968 - iou: 0.7358 - dice_coef: 0.8399 - val_loss: -0.8585 - val_binary_accuracy: 0.9970 - val_iou: 0.7618 - val_dice_coef: 0.8604\n",
            "\n",
            "Epoch 00018: val_loss improved from -0.84105 to -0.85854, saving model to unet_brain_mri_seg.hdf5\n",
            "Epoch 19/30\n",
            "176/176 [==============================] - 90s 509ms/step - loss: -0.7924 - binary_accuracy: 0.9965 - iou: 0.6817 - dice_coef: 0.7924 - val_loss: -0.7869 - val_binary_accuracy: 0.9971 - val_iou: 0.6866 - val_dice_coef: 0.7893\n",
            "\n",
            "Epoch 00019: val_loss did not improve from -0.85854\n",
            "Epoch 20/30\n",
            "176/176 [==============================] - 90s 508ms/step - loss: -0.8118 - binary_accuracy: 0.9969 - iou: 0.7072 - dice_coef: 0.8118 - val_loss: -0.8147 - val_binary_accuracy: 0.9966 - val_iou: 0.7037 - val_dice_coef: 0.8170\n",
            "\n",
            "Epoch 00020: val_loss did not improve from -0.85854\n",
            "Epoch 21/30\n",
            "176/176 [==============================] - 90s 508ms/step - loss: -0.8228 - binary_accuracy: 0.9969 - iou: 0.7189 - dice_coef: 0.8228 - val_loss: -0.8408 - val_binary_accuracy: 0.9969 - val_iou: 0.7382 - val_dice_coef: 0.8434\n",
            "\n",
            "Epoch 00021: val_loss did not improve from -0.85854\n",
            "Epoch 22/30\n",
            "176/176 [==============================] - 91s 516ms/step - loss: -0.8187 - binary_accuracy: 0.9969 - iou: 0.7151 - dice_coef: 0.8187 - val_loss: -0.8284 - val_binary_accuracy: 0.9964 - val_iou: 0.7131 - val_dice_coef: 0.8265\n",
            "\n",
            "Epoch 00022: val_loss did not improve from -0.85854\n",
            "Epoch 23/30\n",
            "177/176 [==============================] - ETA: 0s - loss: -0.8185 - binary_accuracy: 0.9968 - iou: 0.7118 - dice_coef: 0.8185\n",
            "Epoch 00023: val_loss did not improve from -0.85854\n",
            "Epoch 24/30\n",
            "176/176 [==============================] - 90s 508ms/step - loss: -0.8562 - binary_accuracy: 0.9972 - iou: 0.7586 - dice_coef: 0.8562 - val_loss: -0.8333 - val_binary_accuracy: 0.9969 - val_iou: 0.7291 - val_dice_coef: 0.8355\n",
            "\n",
            "Epoch 00024: val_loss did not improve from -0.85854\n",
            "Epoch 25/30\n",
            "176/176 [==============================] - 90s 509ms/step - loss: -0.8573 - binary_accuracy: 0.9973 - iou: 0.7602 - dice_coef: 0.8573 - val_loss: -0.8546 - val_binary_accuracy: 0.9974 - val_iou: 0.7556 - val_dice_coef: 0.8533\n",
            "\n",
            "Epoch 00025: val_loss did not improve from -0.85854\n",
            "Epoch 26/30\n",
            "176/176 [==============================] - 92s 521ms/step - loss: -0.8691 - binary_accuracy: 0.9974 - iou: 0.7781 - dice_coef: 0.8691 - val_loss: -0.8390 - val_binary_accuracy: 0.9971 - val_iou: 0.7387 - val_dice_coef: 0.8408\n",
            "\n",
            "Epoch 00026: val_loss did not improve from -0.85854\n",
            "Epoch 27/30\n",
            "176/176 [==============================] - 90s 508ms/step - loss: -0.8430 - binary_accuracy: 0.9969 - iou: 0.7437 - dice_coef: 0.8430 - val_loss: -0.8405 - val_binary_accuracy: 0.9971 - val_iou: 0.7432 - val_dice_coef: 0.8420\n",
            "\n",
            "Epoch 00027: val_loss did not improve from -0.85854\n",
            "Epoch 28/30\n",
            "176/176 [==============================] - 90s 509ms/step - loss: -0.8695 - binary_accuracy: 0.9975 - iou: 0.7772 - dice_coef: 0.8695 - val_loss: -0.8690 - val_binary_accuracy: 0.9974 - val_iou: 0.7776 - val_dice_coef: 0.8703\n",
            "\n",
            "Epoch 00028: val_loss improved from -0.85854 to -0.86903, saving model to unet_brain_mri_seg.hdf5\n",
            "Epoch 29/30\n",
            "176/176 [==============================] - 90s 508ms/step - loss: -0.8618 - binary_accuracy: 0.9976 - iou: 0.7745 - dice_coef: 0.8618 - val_loss: -0.8143 - val_binary_accuracy: 0.9968 - val_iou: 0.7039 - val_dice_coef: 0.8098\n",
            "\n",
            "Epoch 00029: val_loss did not improve from -0.86903\n",
            "Epoch 30/30\n",
            "176/176 [==============================] - 90s 508ms/step - loss: -0.8550 - binary_accuracy: 0.9973 - iou: 0.7559 - dice_coef: 0.8550 - val_loss: -0.8324 - val_binary_accuracy: 0.9969 - val_iou: 0.7286 - val_dice_coef: 0.8273\n",
            "\n",
            "Epoch 00030: val_loss did not improve from -0.86903\n"
          ],
          "name": "stdout"
        }
      ]
    },
    {
      "cell_type": "code",
      "metadata": {
        "id": "-i3bCbPPOusq",
        "colab": {
          "base_uri": "https://localhost:8080/",
          "height": 576
        },
        "outputId": "42269a57-fdd6-4385-ad1e-0272c4abb135"
      },
      "source": [
        "a = history.history\n",
        "\n",
        "list_traindice = a['dice_coef']\n",
        "list_testdice = a['val_dice_coef']\n",
        "\n",
        "list_trainjaccard = a['iou']\n",
        "list_testjaccard = a['val_iou']\n",
        "\n",
        "list_trainloss = a['loss']\n",
        "list_testloss = a['val_loss']\n",
        "plt.figure(1)\n",
        "plt.plot(list_testloss, 'b-')\n",
        "plt.plot(list_trainloss,'r-')\n",
        "plt.xlabel('iteration')\n",
        "plt.ylabel('loss')\n",
        "plt.title('loss graph', fontsize = 15)\n",
        "plt.figure(2)\n",
        "plt.plot(list_traindice, 'r-')\n",
        "plt.plot(list_testdice, 'b-')\n",
        "plt.xlabel('iteration')\n",
        "plt.ylabel('accuracy')\n",
        "plt.title('accuracy graph', fontsize = 15)\n",
        "plt.show()"
      ],
      "execution_count": 42,
      "outputs": [
        {
          "output_type": "display_data",
          "data": {
            "image/png": "[encoded data removed]",
            "text/plain": [
              "<Figure size 432x288 with 1 Axes>"
            ]
          },
          "metadata": {
            "tags": [],
            "needs_background": "light"
          }
        },
        {
          "output_type": "display_data",
          "data": {
            "image/png": "[encoded data removed]",
            "text/plain": [
              "<Figure size 432x288 with 1 Axes>"
            ]
          },
          "metadata": {
            "tags": [],
            "needs_background": "light"
          }
        }
      ]
    },
    {
      "cell_type": "code",
      "metadata": {
        "id": "WuGvQWxOOusq"
      },
      "source": [
        "model = load_model('unet_brain_mri_seg.hdf5', custom_objects={'dice_coef_loss': dice_coef_loss, 'iou': iou, 'dice_coef': dice_coef})\n",
        "test_gen = train_generator(df_test, BATCH_SIZE,\n",
        "                                dict(),\n",
        "                                target_size=(im_height, im_width))\n",
        "results = model.evaluate(test_gen, steps=len(df_test) / BATCH_SIZE)\n",
        "print(\"Test lost: \",results[0])\n",
        "print(\"Test IOU: \",results[1])\n",
        "print(\"Test Dice Coefficent: \",results[2])"
      ],
      "execution_count": null,
      "outputs": []
    },
    {
      "cell_type": "code",
      "metadata": {
        "id": "OmA_SKAKOusr"
      },
      "source": [
        "for i in range(30):\n",
        "    index=np.random.randint(1,len(df_test.index))\n",
        "    img = cv2.imread(df_test['mri_scan'].iloc[index])\n",
        "    img = cv2.resize(img ,(im_height, im_width))\n",
        "    img = img / 255\n",
        "    img = img[np.newaxis, :, :, :]\n",
        "    pred=model.predict(img)\n",
        "\n",
        "    plt.figure(figsize=(12,12))\n",
        "    plt.subplot(1,3,1)\n",
        "    plt.imshow(np.squeeze(img))\n",
        "    plt.title('Original Image')\n",
        "    plt.subplot(1,3,2)\n",
        "    plt.imshow(np.squeeze(cv2.imread(df_test['mask'].iloc[index])))\n",
        "    plt.title('Original Mask')\n",
        "    plt.subplot(1,3,3)\n",
        "    plt.imshow(np.squeeze(pred) > .5)\n",
        "    plt.title('Prediction')\n",
        "    plt.show()"
      ],
      "execution_count": null,
      "outputs": []
    },
    {
      "cell_type": "code",
      "metadata": {
        "id": "QYo7d7dxtUek"
      },
      "source": [
        "# for layer in clf_model.layers:\n",
        "#     layers.trainable = False"
      ],
      "execution_count": null,
      "outputs": []
    },
    {
      "cell_type": "code",
      "metadata": {
        "id": "JboFh63voBGL"
      },
      "source": [
        "model.compile(loss = 'categorical_crossentropy', \n",
        "              optimizer=Adam(lr=0.00001), \n",
        "              metrics= [\"categorical_accuracy\"]\n",
        "             )"
      ],
      "execution_count": null,
      "outputs": []
    },
    {
      "cell_type": "code",
      "metadata": {
        "id": "y0e-mkJSI4tE"
      },
      "source": [
        "plot_model(model, to_file='model_plot.png', show_shapes=True, show_layer_names=True, expand_nested=True)"
      ],
      "execution_count": null,
      "outputs": []
    },
    {
      "cell_type": "code",
      "metadata": {
        "id": "BSq6MjdNUTlS"
      },
      "source": [
        "earlystopping = EarlyStopping(monitor='val_loss', \n",
        "                              mode='min', \n",
        "                              verbose=1, \n",
        "                              patience=15\n",
        "                             )\n",
        "checkpointer = ModelCheckpoint(filepath=\"weights.h5\", \n",
        "                               verbose=1, \n",
        "                               save_best_only=True\n",
        "                              )\n",
        "tensorboard = TensorBoard(log_dir = './logs',\n",
        "                          histogram_freq=0,\n",
        "                          batch_size=None,\n",
        "                          write_graph=True,\n",
        "                          write_grads=True,\n",
        "                          write_images=False)\n",
        "reduce_lr = ReduceLROnPlateau(monitor='val_loss',\n",
        "                              mode='auto',\n",
        "                              verbose=1,\n",
        "                              patience=2,\n",
        "                              min_delta=0.0001,\n",
        "                              factor=0.3\n",
        "                             )\n",
        "callbacks = [checkpointer, earlystopping, tensorboard,reduce_lr]"
      ],
      "execution_count": null,
      "outputs": []
    },
    {
      "cell_type": "code",
      "metadata": {
        "id": "Mp_8DY6-UTlT"
      },
      "source": [
        "# saving model achitecture in json file\n",
        "model_json = model.to_json()\n",
        "with open(\"clf-model.json\", \"w\") as json_file:\n",
        "    json_file.write(model_json)"
      ],
      "execution_count": null,
      "outputs": []
    },
    {
      "cell_type": "code",
      "metadata": {
        "colab": {
          "base_uri": "https://localhost:8080/"
        },
        "id": "uhm1ap1oUTlU",
        "outputId": "c5b1c64e-0035-4d3b-e94c-18bc694b37ef"
      },
      "source": [
        "h.history.keys()"
      ],
      "execution_count": null,
      "outputs": [
        {
          "output_type": "execute_result",
          "data": {
            "text/plain": [
              "dict_keys(['loss', 'accuracy', 'val_loss', 'val_accuracy', 'lr'])"
            ]
          },
          "metadata": {
            "tags": []
          },
          "execution_count": 23
        }
      ]
    },
    {
      "cell_type": "code",
      "metadata": {
        "colab": {
          "base_uri": "https://localhost:8080/",
          "height": 350
        },
        "id": "zdRQXluPUTlV",
        "outputId": "274afd23-9039-48ed-b36f-376e84804215"
      },
      "source": [
        "plt.figure(figsize=(12,5))\n",
        "plt.subplot(1,2,1)\n",
        "plt.plot(h.history['loss']);\n",
        "plt.plot(h.history['val_loss']);\n",
        "plt.title(\"Classification Model LOSS\");\n",
        "plt.ylabel(\"loss\");\n",
        "plt.xlabel(\"Epochs\");\n",
        "plt.legend(['train', 'val']);\n",
        "\n",
        "plt.subplot(1,2,2)\n",
        "plt.plot(h.history['accuracy']);\n",
        "plt.plot(h.history['val_accuracy']);\n",
        "plt.title(\"Classification Model Acc\");\n",
        "plt.ylabel(\"Accuracy\");\n",
        "plt.xlabel(\"Epochs\");\n",
        "plt.legend(['train', 'val']);"
      ],
      "execution_count": null,
      "outputs": [
        {
          "output_type": "display_data",
          "data": {
            "image/png": "[encoded data removed]",
            "text/plain": [
              "<Figure size 864x360 with 2 Axes>"
            ]
          },
          "metadata": {
            "tags": [],
            "needs_background": "light"
          }
        }
      ]
    },
    {
      "cell_type": "code",
      "metadata": {
        "colab": {
          "base_uri": "https://localhost:8080/"
        },
        "id": "cSpj2NJKUTlV",
        "outputId": "debe3e26-eca9-4a63-e5bd-f63505d9d509"
      },
      "source": [
        "_, acc = model.evaluate(test_generator)\n",
        "print(\"Test accuracy : {} %\".format(acc*100))"
      ],
      "execution_count": null,
      "outputs": [
        {
          "output_type": "stream",
          "text": [
            "19/19 [==============================] - 185s 10s/step - loss: 0.3698 - accuracy: 0.8765\n",
            "Test accuracy : 87.64805197715759 %\n"
          ],
          "name": "stdout"
        }
      ]
    },
    {
      "cell_type": "code",
      "metadata": {
        "id": "qyJ3PyEyUTlV"
      },
      "source": [
        "prediction = model.predict(test_generator)\n",
        "\n",
        "pred = np.argmax(prediction, axis=1)\n",
        "#pred = np.asarray(pred).astype('str')\n",
        "original = np.asarray(test['mask']).astype('int')\n",
        "\n",
        "from sklearn.metrics import accuracy_score, confusion_matrix, classification_report\n",
        "accuracy = accuracy_score(original, pred)\n",
        "print(accuracy)\n",
        "\n",
        "cm = confusion_matrix(original, pred)\n",
        "\n",
        "report = classification_report(original, pred, labels = [0,1])\n",
        "print(report)\n",
        "plt.figure(figsize = (5,5))\n",
        "sns.heatmap(cm, annot=True);"
      ],
      "execution_count": null,
      "outputs": []
    },
    {
      "cell_type": "code",
      "metadata": {
        "id": "StphGyU_UTlY"
      },
      "source": [
        "h.history.keys()"
      ],
      "execution_count": null,
      "outputs": []
    },
    {
      "cell_type": "code",
      "metadata": {
        "id": "dWR6OPKRUTlZ"
      },
      "source": [
        "plt.figure(figsize=(12,5))\n",
        "plt.subplot(1,2,1)\n",
        "plt.plot(h.history['loss']);\n",
        "plt.plot(h.history['val_loss']);\n",
        "plt.title(\"SEG Model focal tversky Loss\");\n",
        "plt.ylabel(\"focal tversky loss\");\n",
        "plt.xlabel(\"Epochs\");\n",
        "plt.legend(['train', 'val']);\n",
        "\n",
        "plt.subplot(1,2,2)\n",
        "plt.plot(h.history['tversky']);\n",
        "plt.plot(h.history['val_tversky']);\n",
        "plt.title(\"SEG Model tversky score\");\n",
        "plt.ylabel(\"tversky Accuracy\");\n",
        "plt.xlabel(\"Epochs\");\n",
        "plt.legend(['train', 'val']);"
      ],
      "execution_count": null,
      "outputs": []
    },
    {
      "cell_type": "code",
      "metadata": {
        "id": "14Gklv-TUTlZ"
      },
      "source": [
        "test_ids = list(X_test.image_path)\n",
        "test_mask = list(X_test.mask_path)\n",
        "test_data = DataGenerator(test_ids, test_mask)\n",
        "_, tv = seg_model.evaluate(test_data)\n",
        "print(\"Segmentation tversky is {:.2f}%\".format(tv*100))"
      ],
      "execution_count": null,
      "outputs": []
    }
  ]
}